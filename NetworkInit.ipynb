{
  "nbformat": 4,
  "nbformat_minor": 0,
  "metadata": {
    "accelerator": "GPU",
    "colab": {
      "name": "NetworkInit.ipynb",
      "provenance": [],
      "collapsed_sections": [],
      "include_colab_link": true
    },
    "kernelspec": {
      "display_name": "Python 3",
      "name": "python3"
    }
  },
  "cells": [
    {
      "cell_type": "markdown",
      "metadata": {
        "id": "view-in-github",
        "colab_type": "text"
      },
      "source": [
        "<a href=\"https://colab.research.google.com/github/sofymunari/JiGenProject/blob/main/NetworkInit.ipynb\" target=\"_parent\"><img src=\"https://colab.research.google.com/assets/colab-badge.svg\" alt=\"Open In Colab\"/></a>"
      ]
    },
    {
      "cell_type": "markdown",
      "metadata": {
        "id": "c9QcGnGPdX2C"
      },
      "source": [
        "\n",
        "**Install requirements**"
      ]
    },
    {
      "cell_type": "code",
      "metadata": {
        "colab": {
          "base_uri": "https://localhost:8080/"
        },
        "id": "k9O3aM3Tb28q",
        "outputId": "83fa8a9a-6487-48c1-c848-4cfa97182687"
      },
      "source": [
        "!pip3 install 'torch==1.4.0'\n",
        "!pip3 install 'torchvision==0.5.0'\n",
        "!pip3 install 'tensorflow-gpu==1.15.0'\n",
        "!pip3 install 'scipy==1.5.2'\n",
        "import os\n",
        "if not os.path.isdir('./JiGenProject'):\n",
        "  !git clone https://github.com/sofymunari/JiGenProject.git\n"
      ],
      "execution_count": null,
      "outputs": [
        {
          "output_type": "stream",
          "text": [
            "Requirement already satisfied: torch==1.4.0 in /usr/local/lib/python3.7/dist-packages (1.4.0)\n",
            "Requirement already satisfied: torchvision==0.5.0 in /usr/local/lib/python3.7/dist-packages (0.5.0)\n",
            "Requirement already satisfied: torch==1.4.0 in /usr/local/lib/python3.7/dist-packages (from torchvision==0.5.0) (1.4.0)\n",
            "Requirement already satisfied: pillow>=4.1.1 in /usr/local/lib/python3.7/dist-packages (from torchvision==0.5.0) (7.1.2)\n",
            "Requirement already satisfied: numpy in /usr/local/lib/python3.7/dist-packages (from torchvision==0.5.0) (1.19.5)\n",
            "Requirement already satisfied: six in /usr/local/lib/python3.7/dist-packages (from torchvision==0.5.0) (1.15.0)\n",
            "Requirement already satisfied: tensorflow-gpu==1.15.0 in /usr/local/lib/python3.7/dist-packages (1.15.0)\n",
            "Requirement already satisfied: opt-einsum>=2.3.2 in /usr/local/lib/python3.7/dist-packages (from tensorflow-gpu==1.15.0) (3.3.0)\n",
            "Requirement already satisfied: google-pasta>=0.1.6 in /usr/local/lib/python3.7/dist-packages (from tensorflow-gpu==1.15.0) (0.2.0)\n",
            "Requirement already satisfied: protobuf>=3.6.1 in /usr/local/lib/python3.7/dist-packages (from tensorflow-gpu==1.15.0) (3.12.4)\n",
            "Requirement already satisfied: six>=1.10.0 in /usr/local/lib/python3.7/dist-packages (from tensorflow-gpu==1.15.0) (1.15.0)\n",
            "Requirement already satisfied: astor>=0.6.0 in /usr/local/lib/python3.7/dist-packages (from tensorflow-gpu==1.15.0) (0.8.1)\n",
            "Requirement already satisfied: grpcio>=1.8.6 in /usr/local/lib/python3.7/dist-packages (from tensorflow-gpu==1.15.0) (1.32.0)\n",
            "Requirement already satisfied: wrapt>=1.11.1 in /usr/local/lib/python3.7/dist-packages (from tensorflow-gpu==1.15.0) (1.12.1)\n",
            "Requirement already satisfied: gast==0.2.2 in /usr/local/lib/python3.7/dist-packages (from tensorflow-gpu==1.15.0) (0.2.2)\n",
            "Requirement already satisfied: absl-py>=0.7.0 in /usr/local/lib/python3.7/dist-packages (from tensorflow-gpu==1.15.0) (0.12.0)\n",
            "Requirement already satisfied: numpy<2.0,>=1.16.0 in /usr/local/lib/python3.7/dist-packages (from tensorflow-gpu==1.15.0) (1.19.5)\n",
            "Requirement already satisfied: tensorflow-estimator==1.15.1 in /usr/local/lib/python3.7/dist-packages (from tensorflow-gpu==1.15.0) (1.15.1)\n",
            "Requirement already satisfied: tensorboard<1.16.0,>=1.15.0 in /usr/local/lib/python3.7/dist-packages (from tensorflow-gpu==1.15.0) (1.15.0)\n",
            "Requirement already satisfied: keras-preprocessing>=1.0.5 in /usr/local/lib/python3.7/dist-packages (from tensorflow-gpu==1.15.0) (1.1.2)\n",
            "Requirement already satisfied: termcolor>=1.1.0 in /usr/local/lib/python3.7/dist-packages (from tensorflow-gpu==1.15.0) (1.1.0)\n",
            "Requirement already satisfied: wheel>=0.26 in /usr/local/lib/python3.7/dist-packages (from tensorflow-gpu==1.15.0) (0.36.2)\n",
            "Requirement already satisfied: keras-applications>=1.0.8 in /usr/local/lib/python3.7/dist-packages (from tensorflow-gpu==1.15.0) (1.0.8)\n",
            "Requirement already satisfied: setuptools in /usr/local/lib/python3.7/dist-packages (from protobuf>=3.6.1->tensorflow-gpu==1.15.0) (56.1.0)\n",
            "Requirement already satisfied: werkzeug>=0.11.15 in /usr/local/lib/python3.7/dist-packages (from tensorboard<1.16.0,>=1.15.0->tensorflow-gpu==1.15.0) (2.0.0)\n",
            "Requirement already satisfied: markdown>=2.6.8 in /usr/local/lib/python3.7/dist-packages (from tensorboard<1.16.0,>=1.15.0->tensorflow-gpu==1.15.0) (3.3.4)\n",
            "Requirement already satisfied: h5py in /usr/local/lib/python3.7/dist-packages (from keras-applications>=1.0.8->tensorflow-gpu==1.15.0) (2.10.0)\n",
            "Requirement already satisfied: importlib-metadata; python_version < \"3.8\" in /usr/local/lib/python3.7/dist-packages (from markdown>=2.6.8->tensorboard<1.16.0,>=1.15.0->tensorflow-gpu==1.15.0) (4.0.1)\n",
            "Requirement already satisfied: zipp>=0.5 in /usr/local/lib/python3.7/dist-packages (from importlib-metadata; python_version < \"3.8\"->markdown>=2.6.8->tensorboard<1.16.0,>=1.15.0->tensorflow-gpu==1.15.0) (3.4.1)\n",
            "Requirement already satisfied: typing-extensions>=3.6.4; python_version < \"3.8\" in /usr/local/lib/python3.7/dist-packages (from importlib-metadata; python_version < \"3.8\"->markdown>=2.6.8->tensorboard<1.16.0,>=1.15.0->tensorflow-gpu==1.15.0) (3.7.4.3)\n",
            "Requirement already satisfied: scipy==1.5.2 in /usr/local/lib/python3.7/dist-packages (1.5.2)\n",
            "Requirement already satisfied: numpy>=1.14.5 in /usr/local/lib/python3.7/dist-packages (from scipy==1.5.2) (1.19.5)\n",
            "Cloning into 'JiGenProject'...\n",
            "remote: Enumerating objects: 10060, done.\u001b[K\n",
            "remote: Counting objects: 100% (4/4), done.\u001b[K\n",
            "remote: Compressing objects: 100% (3/3), done.\u001b[K\n",
            "remote: Total 10060 (delta 0), reused 2 (delta 0), pack-reused 10056\u001b[K\n",
            "Receiving objects: 100% (10060/10060), 174.22 MiB | 37.64 MiB/s, done.\n",
            "Resolving deltas: 100% (5/5), done.\n",
            "Checking out files: 100% (10011/10011), done.\n"
          ],
          "name": "stdout"
        }
      ]
    },
    {
      "cell_type": "markdown",
      "metadata": {
        "id": "fo942LMOdlh4"
      },
      "source": [
        "**Import libraries**"
      ]
    },
    {
      "cell_type": "code",
      "metadata": {
        "id": "DokFOdD1dJEl",
        "colab": {
          "base_uri": "https://localhost:8080/",
          "height": 487
        },
        "outputId": "d698e881-4b56-4a81-e5ad-57853f80a40a"
      },
      "source": [
        "import argparse\n",
        "import torch\n",
        "from torch import nn\n",
        "from torch.nn import functional as F\n",
        "from JiGenProject.data import data_helper\n",
        "from data.data_helper import available_datasets\n",
        "from JiGenProject.models import model_factory\n",
        "from optimizer.optimizer_helper import get_optim_and_scheduler\n",
        "from utils.Logger import Logger\n",
        "import numpy as np"
      ],
      "execution_count": null,
      "outputs": [
        {
          "output_type": "error",
          "ename": "ModuleNotFoundError",
          "evalue": "ignored",
          "traceback": [
            "\u001b[0;31m---------------------------------------------------------------------------\u001b[0m",
            "\u001b[0;31mModuleNotFoundError\u001b[0m                       Traceback (most recent call last)",
            "\u001b[0;32m<ipython-input-11-9f2f2581e51e>\u001b[0m in \u001b[0;36m<module>\u001b[0;34m()\u001b[0m\n\u001b[1;32m      4\u001b[0m \u001b[0;32mfrom\u001b[0m \u001b[0mtorch\u001b[0m \u001b[0;32mimport\u001b[0m \u001b[0mnn\u001b[0m\u001b[0;34m\u001b[0m\u001b[0;34m\u001b[0m\u001b[0m\n\u001b[1;32m      5\u001b[0m \u001b[0;32mfrom\u001b[0m \u001b[0mtorch\u001b[0m\u001b[0;34m.\u001b[0m\u001b[0mnn\u001b[0m \u001b[0;32mimport\u001b[0m \u001b[0mfunctional\u001b[0m \u001b[0;32mas\u001b[0m \u001b[0mF\u001b[0m\u001b[0;34m\u001b[0m\u001b[0;34m\u001b[0m\u001b[0m\n\u001b[0;32m----> 6\u001b[0;31m \u001b[0;32mfrom\u001b[0m \u001b[0mJiGenProject\u001b[0m\u001b[0;34m.\u001b[0m\u001b[0mdata\u001b[0m \u001b[0;32mimport\u001b[0m \u001b[0mdata_helper\u001b[0m\u001b[0;34m\u001b[0m\u001b[0;34m\u001b[0m\u001b[0m\n\u001b[0m\u001b[1;32m      7\u001b[0m \u001b[0;32mfrom\u001b[0m \u001b[0mdata\u001b[0m\u001b[0;34m.\u001b[0m\u001b[0mdata_helper\u001b[0m \u001b[0;32mimport\u001b[0m \u001b[0mavailable_datasets\u001b[0m\u001b[0;34m\u001b[0m\u001b[0;34m\u001b[0m\u001b[0m\n\u001b[1;32m      8\u001b[0m \u001b[0;32mfrom\u001b[0m \u001b[0mJiGenProject\u001b[0m\u001b[0;34m.\u001b[0m\u001b[0mmodels\u001b[0m \u001b[0;32mimport\u001b[0m \u001b[0mmodel_factory\u001b[0m\u001b[0;34m\u001b[0m\u001b[0;34m\u001b[0m\u001b[0m\n",
            "\u001b[0;32m/content/JiGenProject/data/data_helper.py\u001b[0m in \u001b[0;36m<module>\u001b[0;34m()\u001b[0m\n\u001b[1;32m      5\u001b[0m \u001b[0;32mfrom\u001b[0m \u001b[0mtorchvision\u001b[0m \u001b[0;32mimport\u001b[0m \u001b[0mtransforms\u001b[0m\u001b[0;34m\u001b[0m\u001b[0;34m\u001b[0m\u001b[0m\n\u001b[1;32m      6\u001b[0m \u001b[0;34m\u001b[0m\u001b[0m\n\u001b[0;32m----> 7\u001b[0;31m \u001b[0;32mfrom\u001b[0m \u001b[0mdata\u001b[0m\u001b[0;34m.\u001b[0m\u001b[0mDatasetLoader\u001b[0m \u001b[0;32mimport\u001b[0m \u001b[0mDataset\u001b[0m\u001b[0;34m,\u001b[0m \u001b[0mTestDataset\u001b[0m\u001b[0;34m,\u001b[0m \u001b[0mget_split_dataset_info\u001b[0m\u001b[0;34m,\u001b[0m \u001b[0m_dataset_info\u001b[0m\u001b[0;34m\u001b[0m\u001b[0;34m\u001b[0m\u001b[0m\n\u001b[0m\u001b[1;32m      8\u001b[0m \u001b[0;32mfrom\u001b[0m \u001b[0mdata\u001b[0m\u001b[0;34m.\u001b[0m\u001b[0mconcat_dataset\u001b[0m \u001b[0;32mimport\u001b[0m \u001b[0mConcatDataset\u001b[0m\u001b[0;34m\u001b[0m\u001b[0;34m\u001b[0m\u001b[0m\n\u001b[1;32m      9\u001b[0m \u001b[0;34m\u001b[0m\u001b[0m\n",
            "\u001b[0;31mModuleNotFoundError\u001b[0m: No module named 'data'",
            "",
            "\u001b[0;31m---------------------------------------------------------------------------\u001b[0;32m\nNOTE: If your import is failing due to a missing package, you can\nmanually install dependencies using either !pip or !apt.\n\nTo view examples of installing some common dependencies, click the\n\"Open Examples\" button below.\n\u001b[0;31m---------------------------------------------------------------------------\u001b[0m\n"
          ]
        }
      ]
    },
    {
      "cell_type": "markdown",
      "metadata": {
        "id": "ztnnms9bPF9A"
      },
      "source": [
        "RUN DA RESNET"
      ]
    },
    {
      "cell_type": "code",
      "metadata": {
        "colab": {
          "base_uri": "https://localhost:8080/"
        },
        "id": "AB_JbyRuZ2o_",
        "outputId": "3e93dcf4-8729-42fd-db4f-603a6b3258a8"
      },
      "source": [
        "!python JiGenProject/train_DA.py --source photo cartoon sketch --target art_painting --path_dataset /content/JiGenProject #84.88\n",
        "!python JiGenProject/train_DA.py --source art_painting cartoon sketch --target photo --path_dataset /content/JiGenProject #81.07\n",
        "!python JiGenProject/train_DA.py --source photo art_painting sketch --target cartoon --path_dataset /content/JiGenProject #79.05\n",
        "!python JiGenProject/train_DA.py --source photo cartoon art_painting --target sketch --path_dataset /content/JiGenProject #97.96"
      ],
      "execution_count": null,
      "outputs": [
        {
          "output_type": "stream",
          "text": [
            "Dataset size: train 7150, val 793, test 2048\n",
            "Step size: 24\n",
            "Saving to /content/JiGenProject/utils/../logs/cartoon-photo-sketch_to_art_painting/eps30_bs128_lr0.001_class7_TAll_898\n",
            "New epoch - lr: 0.001\n",
            "0/55 of epoch 1/30 Class Loss  : 1.962 - Class Accuracy  : 20.31 [bs:128]\n",
            "30/55 of epoch 1/30 Class Loss  : 1.178 - Class Accuracy  : 60.94 [bs:128]\n",
            "Accuracies on val: Classification Accuracy : 81.34\n",
            "Accuracies on test: Classification Accuracy : 50.34\n",
            "New epoch - lr: 0.001\n",
            "0/55 of epoch 2/30 Class Loss  : 0.725 - Class Accuracy  : 82.81 [bs:128]\n",
            "30/55 of epoch 2/30 Class Loss  : 0.701 - Class Accuracy  : 71.88 [bs:128]\n",
            "Accuracies on val: Classification Accuracy : 87.77\n",
            "Accuracies on test: Classification Accuracy : 61.08\n",
            "New epoch - lr: 0.001\n",
            "0/55 of epoch 3/30 Class Loss  : 0.473 - Class Accuracy  : 85.94 [bs:128]\n",
            "30/55 of epoch 3/30 Class Loss  : 0.437 - Class Accuracy  : 85.16 [bs:128]\n",
            "Accuracies on val: Classification Accuracy : 90.54\n",
            "Accuracies on test: Classification Accuracy : 66.46\n",
            "New epoch - lr: 0.001\n",
            "0/55 of epoch 4/30 Class Loss  : 0.389 - Class Accuracy  : 89.84 [bs:128]\n",
            "30/55 of epoch 4/30 Class Loss  : 0.329 - Class Accuracy  : 90.62 [bs:128]\n",
            "Accuracies on val: Classification Accuracy : 91.05\n",
            "Accuracies on test: Classification Accuracy : 66.94\n",
            "New epoch - lr: 0.001\n",
            "0/55 of epoch 5/30 Class Loss  : 0.275 - Class Accuracy  : 89.06 [bs:128]\n",
            "30/55 of epoch 5/30 Class Loss  : 0.267 - Class Accuracy  : 91.41 [bs:128]\n",
            "Accuracies on val: Classification Accuracy : 92.06\n",
            "Accuracies on test: Classification Accuracy : 70.56\n",
            "New epoch - lr: 0.001\n",
            "0/55 of epoch 6/30 Class Loss  : 0.212 - Class Accuracy  : 95.31 [bs:128]\n",
            "30/55 of epoch 6/30 Class Loss  : 0.207 - Class Accuracy  : 92.19 [bs:128]\n",
            "Accuracies on val: Classification Accuracy : 92.56\n",
            "Accuracies on test: Classification Accuracy : 72.36\n",
            "New epoch - lr: 0.001\n",
            "0/55 of epoch 7/30 Class Loss  : 0.196 - Class Accuracy  : 94.53 [bs:128]\n",
            "30/55 of epoch 7/30 Class Loss  : 0.229 - Class Accuracy  : 89.06 [bs:128]\n",
            "Accuracies on val: Classification Accuracy : 93.57\n",
            "Accuracies on test: Classification Accuracy : 75.98\n",
            "New epoch - lr: 0.001\n",
            "0/55 of epoch 8/30 Class Loss  : 0.221 - Class Accuracy  : 91.41 [bs:128]\n",
            "30/55 of epoch 8/30 Class Loss  : 0.150 - Class Accuracy  : 94.53 [bs:128]\n",
            "Accuracies on val: Classification Accuracy : 93.44\n",
            "Accuracies on test: Classification Accuracy : 75.00\n",
            "New epoch - lr: 0.001\n",
            "0/55 of epoch 9/30 Class Loss  : 0.127 - Class Accuracy  : 96.09 [bs:128]\n",
            "30/55 of epoch 9/30 Class Loss  : 0.201 - Class Accuracy  : 90.62 [bs:128]\n",
            "Accuracies on val: Classification Accuracy : 94.07\n",
            "Accuracies on test: Classification Accuracy : 75.49\n",
            "New epoch - lr: 0.001\n",
            "0/55 of epoch 10/30 Class Loss  : 0.164 - Class Accuracy  : 93.75 [bs:128]\n",
            "30/55 of epoch 10/30 Class Loss  : 0.168 - Class Accuracy  : 92.97 [bs:128]\n",
            "Accuracies on val: Classification Accuracy : 94.07\n",
            "Accuracies on test: Classification Accuracy : 76.22\n",
            "New epoch - lr: 0.001\n",
            "0/55 of epoch 11/30 Class Loss  : 0.238 - Class Accuracy  : 89.84 [bs:128]\n",
            "30/55 of epoch 11/30 Class Loss  : 0.171 - Class Accuracy  : 94.53 [bs:128]\n",
            "Accuracies on val: Classification Accuracy : 94.58\n",
            "Accuracies on test: Classification Accuracy : 77.10\n",
            "New epoch - lr: 0.001\n",
            "0/55 of epoch 12/30 Class Loss  : 0.124 - Class Accuracy  : 96.09 [bs:128]\n",
            "30/55 of epoch 12/30 Class Loss  : 0.141 - Class Accuracy  : 96.09 [bs:128]\n",
            "Accuracies on val: Classification Accuracy : 94.33\n",
            "Accuracies on test: Classification Accuracy : 76.46\n",
            "New epoch - lr: 0.001\n",
            "0/55 of epoch 13/30 Class Loss  : 0.082 - Class Accuracy  : 96.88 [bs:128]\n",
            "30/55 of epoch 13/30 Class Loss  : 0.140 - Class Accuracy  : 94.53 [bs:128]\n",
            "Accuracies on val: Classification Accuracy : 94.45\n",
            "Accuracies on test: Classification Accuracy : 78.17\n",
            "New epoch - lr: 0.001\n",
            "0/55 of epoch 14/30 Class Loss  : 0.103 - Class Accuracy  : 95.31 [bs:128]\n",
            "30/55 of epoch 14/30 Class Loss  : 0.159 - Class Accuracy  : 95.31 [bs:128]\n",
            "Accuracies on val: Classification Accuracy : 94.45\n",
            "Accuracies on test: Classification Accuracy : 79.98\n",
            "New epoch - lr: 0.001\n",
            "0/55 of epoch 15/30 Class Loss  : 0.102 - Class Accuracy  : 95.31 [bs:128]\n",
            "30/55 of epoch 15/30 Class Loss  : 0.100 - Class Accuracy  : 96.88 [bs:128]\n",
            "Accuracies on val: Classification Accuracy : 94.70\n",
            "Accuracies on test: Classification Accuracy : 77.44\n",
            "New epoch - lr: 0.001\n",
            "0/55 of epoch 16/30 Class Loss  : 0.117 - Class Accuracy  : 96.88 [bs:128]\n",
            "30/55 of epoch 16/30 Class Loss  : 0.085 - Class Accuracy  : 96.88 [bs:128]\n",
            "Accuracies on val: Classification Accuracy : 95.59\n",
            "Accuracies on test: Classification Accuracy : 78.42\n",
            "New epoch - lr: 0.001\n",
            "0/55 of epoch 17/30 Class Loss  : 0.116 - Class Accuracy  : 96.88 [bs:128]\n",
            "30/55 of epoch 17/30 Class Loss  : 0.064 - Class Accuracy  : 97.66 [bs:128]\n",
            "Accuracies on val: Classification Accuracy : 95.21\n",
            "Accuracies on test: Classification Accuracy : 79.20\n",
            "New epoch - lr: 0.001\n",
            "0/55 of epoch 18/30 Class Loss  : 0.085 - Class Accuracy  : 98.44 [bs:128]\n",
            "30/55 of epoch 18/30 Class Loss  : 0.073 - Class Accuracy  : 99.22 [bs:128]\n",
            "Accuracies on val: Classification Accuracy : 95.33\n",
            "Accuracies on test: Classification Accuracy : 78.08\n",
            "New epoch - lr: 0.001\n",
            "0/55 of epoch 19/30 Class Loss  : 0.068 - Class Accuracy  : 98.44 [bs:128]\n",
            "30/55 of epoch 19/30 Class Loss  : 0.058 - Class Accuracy  : 97.66 [bs:128]\n",
            "Accuracies on val: Classification Accuracy : 95.21\n",
            "Accuracies on test: Classification Accuracy : 78.96\n",
            "New epoch - lr: 0.001\n",
            "0/55 of epoch 20/30 Class Loss  : 0.079 - Class Accuracy  : 97.66 [bs:128]\n",
            "30/55 of epoch 20/30 Class Loss  : 0.040 - Class Accuracy  : 99.22 [bs:128]\n",
            "Accuracies on val: Classification Accuracy : 95.33\n",
            "Accuracies on test: Classification Accuracy : 78.56\n",
            "New epoch - lr: 0.001\n",
            "0/55 of epoch 21/30 Class Loss  : 0.075 - Class Accuracy  : 97.66 [bs:128]\n",
            "30/55 of epoch 21/30 Class Loss  : 0.048 - Class Accuracy  : 99.22 [bs:128]\n",
            "Accuracies on val: Classification Accuracy : 95.96\n",
            "Accuracies on test: Classification Accuracy : 79.35\n",
            "New epoch - lr: 0.001\n",
            "0/55 of epoch 22/30 Class Loss  : 0.037 - Class Accuracy  : 100.00 [bs:128]\n",
            "30/55 of epoch 22/30 Class Loss  : 0.033 - Class Accuracy  : 99.22 [bs:128]\n",
            "Accuracies on val: Classification Accuracy : 95.33\n",
            "Accuracies on test: Classification Accuracy : 79.49\n",
            "New epoch - lr: 0.001\n",
            "0/55 of epoch 23/30 Class Loss  : 0.104 - Class Accuracy  : 96.09 [bs:128]\n",
            "30/55 of epoch 23/30 Class Loss  : 0.039 - Class Accuracy  : 99.22 [bs:128]\n",
            "Accuracies on val: Classification Accuracy : 95.71\n",
            "Accuracies on test: Classification Accuracy : 78.71\n",
            "New epoch - lr: 0.001\n",
            "0/55 of epoch 24/30 Class Loss  : 0.078 - Class Accuracy  : 98.44 [bs:128]\n",
            "30/55 of epoch 24/30 Class Loss  : 0.061 - Class Accuracy  : 99.22 [bs:128]\n",
            "Accuracies on val: Classification Accuracy : 95.33\n",
            "Accuracies on test: Classification Accuracy : 79.15\n",
            "New epoch - lr: 1e-05\n",
            "0/55 of epoch 25/30 Class Loss  : 0.055 - Class Accuracy  : 98.44 [bs:128]\n",
            "30/55 of epoch 25/30 Class Loss  : 0.028 - Class Accuracy  : 100.00 [bs:128]\n",
            "Accuracies on val: Classification Accuracy : 96.09\n",
            "Accuracies on test: Classification Accuracy : 80.13\n",
            "New epoch - lr: 0.0001\n",
            "0/55 of epoch 26/30 Class Loss  : 0.053 - Class Accuracy  : 99.22 [bs:128]\n",
            "30/55 of epoch 26/30 Class Loss  : 0.024 - Class Accuracy  : 99.22 [bs:128]\n",
            "Accuracies on val: Classification Accuracy : 95.84\n",
            "Accuracies on test: Classification Accuracy : 79.59\n",
            "New epoch - lr: 0.0001\n",
            "0/55 of epoch 27/30 Class Loss  : 0.051 - Class Accuracy  : 98.44 [bs:128]\n",
            "30/55 of epoch 27/30 Class Loss  : 0.025 - Class Accuracy  : 100.00 [bs:128]\n",
            "Accuracies on val: Classification Accuracy : 96.09\n",
            "Accuracies on test: Classification Accuracy : 79.39\n",
            "New epoch - lr: 0.0001\n",
            "0/55 of epoch 28/30 Class Loss  : 0.027 - Class Accuracy  : 100.00 [bs:128]\n",
            "30/55 of epoch 28/30 Class Loss  : 0.033 - Class Accuracy  : 100.00 [bs:128]\n",
            "Accuracies on val: Classification Accuracy : 95.33\n",
            "Accuracies on test: Classification Accuracy : 79.79\n",
            "New epoch - lr: 0.0001\n",
            "0/55 of epoch 29/30 Class Loss  : 0.072 - Class Accuracy  : 99.22 [bs:128]\n",
            "30/55 of epoch 29/30 Class Loss  : 0.055 - Class Accuracy  : 99.22 [bs:128]\n",
            "Accuracies on val: Classification Accuracy : 95.96\n",
            "Accuracies on test: Classification Accuracy : 80.13\n",
            "New epoch - lr: 0.0001\n",
            "0/55 of epoch 30/30 Class Loss  : 0.051 - Class Accuracy  : 98.44 [bs:128]\n",
            "30/55 of epoch 30/30 Class Loss  : 0.048 - Class Accuracy  : 100.00 [bs:128]\n",
            "Accuracies on val: Classification Accuracy : 95.59\n",
            "Accuracies on test: Classification Accuracy : 80.08\n",
            "Best val 0.960908, corresponding test 0.793945 - best test: 0.80127\n",
            "It took 1472.14\n"
          ],
          "name": "stdout"
        }
      ]
    },
    {
      "cell_type": "markdown",
      "metadata": {
        "id": "dUEwkr51QMEk"
      },
      "source": [
        "RUN DG RESNET "
      ]
    },
    {
      "cell_type": "code",
      "metadata": {
        "id": "1WSo7_jqRu4U"
      },
      "source": [
        "!python JiGenProject/train_DG.py --source photo cartoon sketch --target art_painting --path_dataset /content/JiGenProject #79.42\n",
        "!python JiGenProject/train_DG.py --source art_painting cartoon sketch --target photo --path_dataset /content/JiGenProject #75.25\n",
        "!python JiGenProject/train_DG.py --source photo art_painting sketch --target cartoon --path_dataset /content/JiGenProject #71.35\n",
        "!python JiGenProject/train_DG.py --source photo cartoon art_painting --target sketch --path_dataset /content/JiGenProject #96.03"
      ],
      "execution_count": null,
      "outputs": []
    },
    {
      "cell_type": "markdown",
      "metadata": {
        "id": "2F6W4T5JStBc"
      },
      "source": [
        "RUN DG ALEXNET"
      ]
    },
    {
      "cell_type": "code",
      "metadata": {
        "id": "wezWPvS8SxM1"
      },
      "source": [
        "!python JiGenProject/train_DG.py --source photo cartoon sketch --target art_painting --path_dataset /content/JiGenProject --network alexnet #67.63\n",
        "!python JiGenProject/train_DG.py --source art_painting cartoon sketch --target photo --path_dataset /content/JiGenProject --network alexnet #71.71\n",
        "!python JiGenProject/train_DG.py --source photo art_painting sketch --target cartoon --path_dataset /content/JiGenProject --network alexnet #65.18\n",
        "!python JiGenProject/train_DG.py --source photo cartoon art_painting --target sketch --path_dataset /content/JiGenProject --network alexnet #89.00"
      ],
      "execution_count": null,
      "outputs": []
    }
  ]
}