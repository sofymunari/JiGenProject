{
  "nbformat": 4,
  "nbformat_minor": 0,
  "metadata": {
    "accelerator": "GPU",
    "colab": {
      "name": "Copia di Homework2-MLDL.ipynb",
      "provenance": [],
      "collapsed_sections": [],
      "toc_visible": true,
      "include_colab_link": true
    },
    "kernelspec": {
      "display_name": "Python 3",
      "name": "python3"
    }
  },
  "cells": [
    {
      "cell_type": "markdown",
      "metadata": {
        "id": "view-in-github",
        "colab_type": "text"
      },
      "source": [
        "<a href=\"https://colab.research.google.com/github/sofymunari/JiGenProject/blob/main/Copia_di_Homework2_MLDL.ipynb\" target=\"_parent\"><img src=\"https://colab.research.google.com/assets/colab-badge.svg\" alt=\"Open In Colab\"/></a>"
      ]
    },
    {
      "cell_type": "markdown",
      "metadata": {
        "id": "c9QcGnGPdX2C"
      },
      "source": [
        "\n",
        "**Install requirements**"
      ]
    },
    {
      "cell_type": "code",
      "metadata": {
        "colab": {
          "base_uri": "https://localhost:8080/",
          "height": 684
        },
        "id": "k9O3aM3Tb28q",
        "outputId": "a1b69b37-71fc-4990-bd02-92387f1955de"
      },
      "source": [
        "!pip3 install 'torch==1.4.0'\n",
        "!pip3 install 'torchvision==0.5.0'\n",
        "!pip3 install 'Pillow-SIMD'\n",
        "!pip3 install 'tqdm'"
      ],
      "execution_count": 1,
      "outputs": [
        {
          "output_type": "stream",
          "text": [
            "Collecting torch==1.4.0\n",
            "\u001b[?25l  Downloading https://files.pythonhosted.org/packages/1a/3b/fa92ece1e58a6a48ec598bab327f39d69808133e5b2fb33002ca754e381e/torch-1.4.0-cp37-cp37m-manylinux1_x86_64.whl (753.4MB)\n",
            "\u001b[K     |████████████████████████████████| 753.4MB 24kB/s \n",
            "\u001b[31mERROR: torchvision 0.9.1+cu101 has requirement torch==1.8.1, but you'll have torch 1.4.0 which is incompatible.\u001b[0m\n",
            "\u001b[31mERROR: torchtext 0.9.1 has requirement torch==1.8.1, but you'll have torch 1.4.0 which is incompatible.\u001b[0m\n",
            "\u001b[?25hInstalling collected packages: torch\n",
            "  Found existing installation: torch 1.8.1+cu101\n",
            "    Uninstalling torch-1.8.1+cu101:\n",
            "      Successfully uninstalled torch-1.8.1+cu101\n",
            "Successfully installed torch-1.4.0\n",
            "Collecting torchvision==0.5.0\n",
            "\u001b[?25l  Downloading https://files.pythonhosted.org/packages/1c/32/cb0e4c43cd717da50258887b088471568990b5a749784c465a8a1962e021/torchvision-0.5.0-cp37-cp37m-manylinux1_x86_64.whl (4.0MB)\n",
            "\u001b[K     |████████████████████████████████| 4.0MB 23.7MB/s \n",
            "\u001b[?25hRequirement already satisfied: numpy in /usr/local/lib/python3.7/dist-packages (from torchvision==0.5.0) (1.19.5)\n",
            "Requirement already satisfied: six in /usr/local/lib/python3.7/dist-packages (from torchvision==0.5.0) (1.15.0)\n",
            "Requirement already satisfied: torch==1.4.0 in /usr/local/lib/python3.7/dist-packages (from torchvision==0.5.0) (1.4.0)\n",
            "Requirement already satisfied: pillow>=4.1.1 in /usr/local/lib/python3.7/dist-packages (from torchvision==0.5.0) (7.1.2)\n",
            "Installing collected packages: torchvision\n",
            "  Found existing installation: torchvision 0.9.1+cu101\n",
            "    Uninstalling torchvision-0.9.1+cu101:\n",
            "      Successfully uninstalled torchvision-0.9.1+cu101\n",
            "Successfully installed torchvision-0.5.0\n",
            "Collecting Pillow-SIMD\n",
            "\u001b[?25l  Downloading https://files.pythonhosted.org/packages/a0/6a/30d21c886293cca3755b8e55de34137a5068b77eba1c0644d3632080516b/Pillow-SIMD-7.0.0.post3.tar.gz (630kB)\n",
            "\u001b[K     |████████████████████████████████| 634kB 32.1MB/s \n",
            "\u001b[?25hBuilding wheels for collected packages: Pillow-SIMD\n",
            "  Building wheel for Pillow-SIMD (setup.py) ... \u001b[?25l\u001b[?25hdone\n",
            "  Created wheel for Pillow-SIMD: filename=Pillow_SIMD-7.0.0.post3-cp37-cp37m-linux_x86_64.whl size=1206231 sha256=659ebeafb0b67dab597086c266aaab16d299a88ecfd14266c11cfe3ae1d5790e\n",
            "  Stored in directory: /root/.cache/pip/wheels/d3/ac/4f/4cdf8febba528e5f1b09fc58d5181e1c12ed1e8655dcd583b8\n",
            "Successfully built Pillow-SIMD\n",
            "Installing collected packages: Pillow-SIMD\n",
            "Successfully installed Pillow-SIMD-7.0.0.post3\n"
          ],
          "name": "stdout"
        },
        {
          "output_type": "display_data",
          "data": {
            "application/vnd.colab-display-data+json": {
              "pip_warning": {
                "packages": [
                  "PIL"
                ]
              }
            }
          },
          "metadata": {
            "tags": []
          }
        },
        {
          "output_type": "stream",
          "text": [
            "Requirement already satisfied: tqdm in /usr/local/lib/python3.7/dist-packages (4.41.1)\n"
          ],
          "name": "stdout"
        }
      ]
    },
    {
      "cell_type": "markdown",
      "metadata": {
        "id": "fo942LMOdlh4"
      },
      "source": [
        "**Import libraries**"
      ]
    },
    {
      "cell_type": "code",
      "metadata": {
        "id": "DokFOdD1dJEl"
      },
      "source": [
        "import os\n",
        "import logging\n",
        "import numpy as np\n",
        "import matplotlib.pyplot as plt \n",
        "from statistics import mean \n",
        "\n",
        "import random\n",
        "import torch\n",
        "import torch.nn as nn\n",
        "import torch.optim as optim\n",
        "from torch.utils.data import Subset, DataLoader\n",
        "from torch.backends import cudnn\n",
        "\n",
        "import torchvision\n",
        "from torchvision import transforms\n",
        "from torchvision.models import alexnet, resnet18, resnet50\n",
        "\n",
        "from PIL import Image\n",
        "from tqdm import tqdm"
      ],
      "execution_count": null,
      "outputs": []
    },
    {
      "cell_type": "markdown",
      "metadata": {
        "id": "OIDLJuIXK_vh"
      },
      "source": [
        "**Set Arguments**"
      ]
    },
    {
      "cell_type": "code",
      "metadata": {
        "id": "d5PkYfqfK_SA"
      },
      "source": [
        "DEVICE = 'cuda' # 'cuda' or 'cpu'\n",
        "\n",
        "NUM_CLASSES = 101    # 101 + 1: There is am extra Background class that should be removed \n",
        "\n",
        "BATCH_SIZE = 128     # Higher batch sizes allows for larger learning rates. An empirical heuristic suggests that, when changing\n",
        "                     # the batch size, learning rate should change by the same factor to have comparable results\n",
        "\n",
        "LR = 0.05      # The initial Learning Rate\n",
        "MOMENTUM = 0.9       # Hyperparameter for SGD, keep this at 0.9 when using SGD\n",
        "WEIGHT_DECAY = 5e-5  # Regularization, you can keep this at the default\n",
        "\n",
        "NUM_EPOCHS = 30   # Total number of training epochs (iterations over dataset)\n",
        "STEP_SIZE = 20    # How many epochs before decreasing learning rate (if using a step-down policy)\n",
        "GAMMA = 0.1          # Multiplicative factor for learning rate step-down\n",
        "\n",
        "LOG_FREQUENCY = 5\n",
        "\n",
        "PRE_TRAINED = False     # set to True to load the pre-trained AlexNet\n",
        "\n",
        "FREEZING = None        # define which layers of the network will be kept frozen\n",
        "                       # None : train the whole network\n",
        "                       # \"CONV\" : train only the FC-layers\n",
        "                       # \"FC\" : train only the conv-layers\n",
        "\n",
        "AUG_PROB = 0.5   # the probability with witch each image is transformed at training time during each epoch\n",
        "AUG_TYPE = None      # define the type of augmentation pipeline \n",
        "                     # None for no data augmentation\n",
        "                     # \"CS-HF\" for contrast + saturation + horizontal flip\n",
        "                     # \"H-RP\" for hue + random perspective\n",
        "                     # \"B-GS-R\" for brightness + grayscale + rotation"
      ],
      "execution_count": null,
      "outputs": []
    },
    {
      "cell_type": "markdown",
      "metadata": {
        "id": "9gwii0TBHvzh"
      },
      "source": [
        "**Define Data Preprocessing**"
      ]
    },
    {
      "cell_type": "code",
      "metadata": {
        "id": "QUDdw4j2H0Mc"
      },
      "source": [
        "                                 \n",
        "if PRE_TRAINED:\n",
        "  normalizer = transforms.Normalize(mean=(0.485, 0.456, 0.406), std=(0.229, 0.224, 0.225))\n",
        "else:\n",
        "  normalizer = transforms.Normalize(mean = (0.5, 0.5, 0.5), std=(0.229, 0.224, 0.225))\n",
        "\n",
        "# Define transforms for training phase\n",
        "train_transform = transforms.Compose([transforms.Resize(256),      # Resizes short size of the PIL image to 256\n",
        "                                      transforms.CenterCrop(224),  # Crops a central square patch of the image\n",
        "                                                                   # 224 because torchvision's AlexNet needs a 224x224 input!\n",
        "                                                                   # Remember this when applying different transformations, otherwise you get an error\n",
        "                                      transforms.ToTensor()\n",
        "])\n",
        "\n",
        "\n",
        "# Define transforms for the evaluation phase\n",
        "eval_transform = transforms.Compose([transforms.Resize(256),\n",
        "                                      transforms.CenterCrop(224), \n",
        "                                     transforms.ToTensor()                               \n",
        "])\n",
        "\n",
        "bright_t = transforms.ColorJitter(brightness=[1,2])\n",
        "contrast_t = transforms.ColorJitter(contrast = [2,5])\n",
        "saturation_t = transforms.ColorJitter(saturation = [1,3])\n",
        "hue_t = transforms.ColorJitter(hue = 0.2)\n",
        "gs_t = transforms.Grayscale(3)\n",
        "hflip_t = transforms.RandomHorizontalFlip(p = 1)\n",
        "rp_t = transforms.RandomPerspective(p = 1, distortion_scale = 0.5)\n",
        "rot_t = transforms.RandomRotation(degrees = 90)\n",
        "\n",
        "aug_transformations = {\n",
        "    \"CS-HF\": transforms.Compose([contrast_t, saturation_t, hflip_t]),\n",
        "    \"H-RP\": transforms.Compose([hue_t, rp_t]),\n",
        "    \"B-GS-R\": transforms.Compose([bright_t, gs_t, rot_t])\n",
        "    }\n",
        "\n",
        "if AUG_TYPE is not None:\n",
        "  aug_transformation = aug_transformations[AUG_TYPE]\n",
        "  aug_pipeline = transforms.Compose([ \n",
        "                                      transforms.ToPILImage(),\n",
        "                                      transforms.RandomApply([aug_transformation], p = AUG_PROB),\n",
        "                                      transforms.ToTensor(),\n",
        "                                      normalizer\n",
        "                                     ])\n",
        "else:\n",
        "  aug_pipeline = normalizer"
      ],
      "execution_count": null,
      "outputs": []
    },
    {
      "cell_type": "markdown",
      "metadata": {
        "id": "2qYIHPzYLY7i"
      },
      "source": [
        "**Prepare Dataset**"
      ]
    },
    {
      "cell_type": "code",
      "metadata": {
        "colab": {
          "base_uri": "https://localhost:8080/"
        },
        "id": "QfVq_uDHLbsR",
        "outputId": "3652a6d3-b44f-49e2-d525-eb8bab1609b6"
      },
      "source": [
        "# Clone github repository with data\n",
        "if not os.path.isdir('./MLA'):\n",
        "  !git clone https://github.com/sofymunari/MLA.git\n",
        "  \n",
        "\n",
        "DATA_DIR = 'MLA/101_ObjectCategories'\n",
        "from MLA.caltech_dataset import Caltech\n",
        "\n",
        "# Prepare Pytorch train/test Datasets\n",
        "train_dataset_big = Caltech(DATA_DIR, split='train',  transform=train_transform)\n",
        "test_dataset = Caltech(DATA_DIR, split='test', transform=eval_transform)\n",
        "\n",
        "\n",
        "\n",
        "train_dataset_big.__makesplit__()\n",
        "train_indexes = train_dataset_big.__trainsplit__() # split the indices for your train split\n",
        "val_indexes = train_dataset_big.__validsplit__() # split the indices for your val split\n",
        "\n",
        "train_dataset = Subset(train_dataset_big, train_indexes)\n",
        "val_dataset = Subset(train_dataset_big, val_indexes)\n",
        "print(val_dataset.__getitem__(1284))\n",
        "\n",
        "# Check dataset sizes\n",
        "print('Train Dataset: {}'.format(len(train_dataset)))\n",
        "print('Valid Dataset: {}'.format(len(val_dataset)))\n",
        "print('Test Dataset: {}'.format(len(test_dataset)))"
      ],
      "execution_count": null,
      "outputs": [
        {
          "output_type": "stream",
          "text": [
            "(tensor([[[0.0000, 0.0000, 0.0000,  ..., 0.6078, 0.6078, 0.6118],\n",
            "         [0.0000, 0.0000, 0.0000,  ..., 0.6039, 0.6078, 0.6078],\n",
            "         [0.0000, 0.0000, 0.0000,  ..., 0.5843, 0.5882, 0.5882],\n",
            "         ...,\n",
            "         [0.2706, 0.2000, 0.3137,  ..., 0.0000, 0.0000, 0.0000],\n",
            "         [0.3216, 0.2275, 0.2667,  ..., 0.0000, 0.0000, 0.0000],\n",
            "         [0.3098, 0.2706, 0.2588,  ..., 0.0000, 0.0000, 0.0000]],\n",
            "\n",
            "        [[0.0000, 0.0000, 0.0000,  ..., 0.7961, 0.7882, 0.7882],\n",
            "         [0.0000, 0.0000, 0.0000,  ..., 0.7922, 0.7882, 0.7843],\n",
            "         [0.0000, 0.0000, 0.0000,  ..., 0.7725, 0.7686, 0.7647],\n",
            "         ...,\n",
            "         [0.1686, 0.0980, 0.2118,  ..., 0.0000, 0.0000, 0.0000],\n",
            "         [0.2549, 0.1686, 0.2078,  ..., 0.0000, 0.0000, 0.0000],\n",
            "         [0.2471, 0.2157, 0.2039,  ..., 0.0000, 0.0000, 0.0000]],\n",
            "\n",
            "        [[0.0000, 0.0000, 0.0000,  ..., 0.8824, 0.8784, 0.8784],\n",
            "         [0.0000, 0.0000, 0.0000,  ..., 0.8784, 0.8784, 0.8745],\n",
            "         [0.0000, 0.0000, 0.0000,  ..., 0.8588, 0.8588, 0.8549],\n",
            "         ...,\n",
            "         [0.0941, 0.0275, 0.1412,  ..., 0.0000, 0.0000, 0.0000],\n",
            "         [0.1529, 0.0667, 0.1059,  ..., 0.0000, 0.0000, 0.0000],\n",
            "         [0.1451, 0.1098, 0.0980,  ..., 0.0000, 0.0000, 0.0000]]]), 64)\n",
            "Train Dataset: 3856\n",
            "Valid Dataset: 1928\n",
            "Test Dataset: 2893\n"
          ],
          "name": "stdout"
        }
      ]
    },
    {
      "cell_type": "markdown",
      "metadata": {
        "id": "FYEDQ7Z21ldN"
      },
      "source": [
        "**Prepare Dataloaders**"
      ]
    },
    {
      "cell_type": "code",
      "metadata": {
        "id": "VriRw8SI1nle"
      },
      "source": [
        "# Dataloaders iterate over pytorch datasets and transparently provide useful functions (e.g. parallelization and shuffling)\n",
        "train_dataloader = DataLoader(train_dataset, batch_size=BATCH_SIZE, shuffle=True, num_workers=4, drop_last=True)\n",
        "val_dataloader = DataLoader(val_dataset, batch_size=BATCH_SIZE, shuffle=False, num_workers=4)\n",
        "\n",
        "test_dataloader = DataLoader(test_dataset, batch_size=BATCH_SIZE, shuffle=False, num_workers=4)"
      ],
      "execution_count": null,
      "outputs": []
    },
    {
      "cell_type": "markdown",
      "metadata": {
        "id": "gbZ1t5Qs2z4j"
      },
      "source": [
        "**Prepare Network**"
      ]
    },
    {
      "cell_type": "code",
      "metadata": {
        "id": "exHUjtXa22DN"
      },
      "source": [
        "net = alexnet() # Loading AlexNet model\n",
        "\n",
        "#AlexNet has 1000 output neurons, corresponding to the 1000 ImageNet's classes\n",
        "# We need 101 outputs for Caltech-101\n",
        "net.classifier[6] = nn.Linear(4096, NUM_CLASSES) # nn.Linear in pytorch is a fully connected layer\n",
        "                                                 # The convolutional layer is nn.Conv2d\n",
        "\n",
        "# We just changed the last layer of AlexNet with a new fully connected layer with 101 outputs\n",
        "# It is strongly suggested to study torchvision.models.alexnet source code\n",
        "#net = resnet50(pretrained=PRE_TRAINED)\n",
        "#net.fc = nn.Linear(net.fc.in_features, NUM_CLASSES)"
      ],
      "execution_count": null,
      "outputs": []
    },
    {
      "cell_type": "markdown",
      "metadata": {
        "id": "KEyL3H_R4qCf"
      },
      "source": [
        "**Prepare Training**"
      ]
    },
    {
      "cell_type": "code",
      "metadata": {
        "id": "9sjq00G94tSc"
      },
      "source": [
        "# Define loss function\n",
        "criterion = nn.CrossEntropyLoss() # for classification, we use Cross Entropy\n",
        "\n",
        "# Choose parameters to optimize\n",
        "# e.g.: parameters of the whole network: net.parameters()\n",
        "# e.g.: parameters of the fully connected layers: net.classifier.parameters()\n",
        "# e.g.: parameters of the convolutional layers: net.features.parameters() or net.fc.parameters()\n",
        "if FREEZING is not None:\n",
        "  if FREEZING == \"FC\":\n",
        "    parameters_to_optimize = net.features.parameters() \n",
        "  else:\n",
        "    # parameters_to_optimize = net.classifier.parameters()\n",
        "    parameters_to_optimize = net.fc.parameters()\n",
        "else:\n",
        "  parameters_to_optimize = net.parameters()\n",
        "\n",
        "# Define optimizer\n",
        "# An optimizer updates the weights based on loss\n",
        "# We use SGD with momentum\n",
        "optimizer = optim.SGD(parameters_to_optimize, lr=LR, momentum=MOMENTUM, weight_decay=WEIGHT_DECAY)\n",
        "\n",
        "# Define scheduler\n",
        "# A scheduler dynamically changes learning rate\n",
        "# The most common schedule is the step(-down), which multiplies learning rate by gamma every STEP_SIZE epochs\n",
        "scheduler = optim.lr_scheduler.StepLR(optimizer, step_size=STEP_SIZE, gamma=GAMMA)"
      ],
      "execution_count": null,
      "outputs": []
    },
    {
      "cell_type": "markdown",
      "metadata": {
        "id": "AxYUli9d9uYQ"
      },
      "source": [
        "**Validation**"
      ]
    },
    {
      "cell_type": "code",
      "metadata": {
        "id": "ZcoQ5fD49yT_"
      },
      "source": [
        "def evaluate(net, dataloader, print_tqdm = True):\n",
        "  with torch.no_grad():\n",
        "    net = net.to(DEVICE) # this will bring the network to GPU if DEVICE is cuda\n",
        "    net.train(False) # Set Network to evaluation mode\n",
        "    running_corrects = 0\n",
        "    iterable = tqdm(dataloader) if print_tqdm else dataloader\n",
        "    losses = []\n",
        "    for images, labels in iterable: \n",
        "      norm_images = []\n",
        "      for image in images:\n",
        "        norm_image = normalizer(image)\n",
        "        norm_images.append(norm_image)\n",
        "      norm_images = torch.stack(norm_images)  \n",
        "      norm_images = norm_images.to(DEVICE)\n",
        "      labels = labels.to(DEVICE)\n",
        "      # Forward Pass\n",
        "      outputs = net(norm_images)\n",
        "      loss = criterion(outputs, labels)\n",
        "      losses.append(loss.item())\n",
        "      # Get predictions\n",
        "      _, preds = torch.max(outputs.data, 1)\n",
        "      # Update Corrects\n",
        "      running_corrects += torch.sum(preds == labels.data).data.item()\n",
        "    # Calculate Accuracy\n",
        "    accuracy = running_corrects / float(len(dataloader.dataset))\n",
        "\n",
        "  return accuracy, mean(losses)"
      ],
      "execution_count": null,
      "outputs": []
    },
    {
      "cell_type": "markdown",
      "metadata": {
        "id": "UsHFI-GAJd69"
      },
      "source": [
        "**train and validation**"
      ]
    },
    {
      "cell_type": "code",
      "metadata": {
        "id": "EO3HV5pqJg1o",
        "colab": {
          "base_uri": "https://localhost:8080/"
        },
        "outputId": "dee3413c-fd20-4d07-9ad8-0a7999c1bec0"
      },
      "source": [
        "net = net.to(DEVICE) # this will bring the network to GPU if DEVICE is cuda\n",
        "\n",
        "cudnn.benchmark # Calling this optimizes runtime\n",
        "\n",
        "current_step = 0\n",
        "\n",
        "val_accuracies = []\n",
        "val_losses = []\n",
        "train_accuracies = []\n",
        "train_losses = []\n",
        "\n",
        "# Start iterating over the epochs\n",
        "for epoch in range(NUM_EPOCHS):\n",
        "  print('Starting epoch {}/{}, LR = {}'.format(epoch+1, NUM_EPOCHS, scheduler.get_last_lr()))\n",
        "\n",
        "  # Iterate over the dataset\n",
        "  for images, labels in train_dataloader:\n",
        "    aug_images = []\n",
        "\n",
        "    for image in images:\n",
        "      aug_image = aug_pipeline(image) \n",
        "      aug_images.append(aug_image) \n",
        "\n",
        "    aug_images = torch.stack(aug_images)\n",
        "\n",
        "    # Bring data over the device of choice\n",
        "    aug_images = aug_images.to(DEVICE)\n",
        "    labels = labels.to(DEVICE)\n",
        "\n",
        "    net.train() # Sets module in training mode\n",
        "\n",
        "    optimizer.zero_grad() # Zero-ing the gradients\n",
        "\n",
        "    # Forward pass to the network\n",
        "    outputs = net(aug_images)\n",
        "\n",
        "    # Compute loss based on output and ground truth\n",
        "    loss = criterion(outputs, labels)\n",
        "\n",
        "    # Log loss\n",
        "    if current_step % LOG_FREQUENCY == 0:\n",
        "      print('Step {}, Loss {}'.format(current_step, loss.item()))\n",
        "    # Compute gradients for each layer and update weights\n",
        "    loss.backward()  # backward pass: computes gradients\n",
        "    optimizer.step() # update weights based on accumulated gradients\n",
        "\n",
        "    current_step += 1\n",
        "\n",
        "  train_acc, train_loss = evaluate(net, train_dataloader, print_tqdm = False)\n",
        "  train_accuracies.append(train_acc)\n",
        "  train_losses.append(train_loss)\n",
        "  \n",
        "  val_acc, val_loss = evaluate(net, val_dataloader, print_tqdm = False)\n",
        "  val_accuracies.append(val_acc)\n",
        "  val_losses.append(val_loss)\n",
        "\n",
        "  # Step the scheduler\n",
        "  scheduler.step()"
      ],
      "execution_count": null,
      "outputs": [
        {
          "output_type": "stream",
          "text": [
            "Starting epoch 1/30, LR = [0.05]\n",
            "Step 0, Loss 4.61537504196167\n",
            "Step 5, Loss 4.594698905944824\n",
            "Step 10, Loss 4.26484489440918\n",
            "Step 15, Loss 4.570113182067871\n",
            "Step 20, Loss 4.51682186126709\n",
            "Step 25, Loss 4.549336910247803\n",
            "Starting epoch 2/30, LR = [0.05]\n",
            "Step 30, Loss 4.486270427703857\n",
            "Step 35, Loss 4.452315807342529\n",
            "Step 40, Loss 4.325311660766602\n",
            "Step 45, Loss 4.278230667114258\n",
            "Step 50, Loss 4.375396728515625\n",
            "Step 55, Loss 4.2914652824401855\n",
            "Starting epoch 3/30, LR = [0.05]\n",
            "Step 60, Loss 4.309173583984375\n",
            "Step 65, Loss 4.120245456695557\n",
            "Step 70, Loss 4.230928421020508\n",
            "Step 75, Loss 4.265066146850586\n",
            "Step 80, Loss 4.352932453155518\n",
            "Step 85, Loss 4.247264862060547\n",
            "Starting epoch 4/30, LR = [0.05]\n",
            "Step 90, Loss 4.201113700866699\n",
            "Step 95, Loss 4.256072998046875\n",
            "Step 100, Loss 4.1246514320373535\n",
            "Step 105, Loss 4.162686824798584\n",
            "Step 110, Loss 4.178223133087158\n",
            "Step 115, Loss 4.221297740936279\n",
            "Starting epoch 5/30, LR = [0.05]\n",
            "Step 120, Loss 4.162060737609863\n",
            "Step 125, Loss 4.207042217254639\n",
            "Step 130, Loss 4.171456813812256\n",
            "Step 135, Loss 4.0196099281311035\n",
            "Step 140, Loss 4.323820114135742\n",
            "Step 145, Loss 4.110093593597412\n",
            "Starting epoch 6/30, LR = [0.05]\n",
            "Step 150, Loss 4.21790885925293\n",
            "Step 155, Loss 4.044998645782471\n",
            "Step 160, Loss 3.9564597606658936\n",
            "Step 165, Loss 4.097790241241455\n",
            "Step 170, Loss 4.1024675369262695\n",
            "Step 175, Loss 3.9960055351257324\n",
            "Starting epoch 7/30, LR = [0.05]\n",
            "Step 180, Loss 4.0870208740234375\n",
            "Step 185, Loss 4.400920391082764\n",
            "Step 190, Loss 9.961129188537598\n",
            "Step 195, Loss 4.2431864738464355\n",
            "Step 200, Loss 4.163139343261719\n",
            "Step 205, Loss 4.157586574554443\n",
            "Starting epoch 8/30, LR = [0.05]\n",
            "Step 210, Loss 4.249278545379639\n",
            "Step 215, Loss 4.226680278778076\n",
            "Step 220, Loss 4.144924163818359\n",
            "Step 225, Loss 4.255460739135742\n",
            "Step 230, Loss 4.05531120300293\n",
            "Step 235, Loss 4.120880126953125\n",
            "Starting epoch 9/30, LR = [0.05]\n",
            "Step 240, Loss 4.228133678436279\n",
            "Step 245, Loss 4.272522926330566\n",
            "Step 250, Loss 3.9820828437805176\n",
            "Step 255, Loss 4.124053001403809\n",
            "Step 260, Loss 4.044189929962158\n",
            "Step 265, Loss 4.068050384521484\n",
            "Starting epoch 10/30, LR = [0.05]\n",
            "Step 270, Loss 3.735259771347046\n",
            "Step 275, Loss 4.125783443450928\n",
            "Step 280, Loss 3.913670301437378\n",
            "Step 285, Loss 3.964913845062256\n",
            "Step 290, Loss 3.997695207595825\n",
            "Step 295, Loss 3.741011381149292\n",
            "Starting epoch 11/30, LR = [0.05]\n",
            "Step 300, Loss 4.211127281188965\n",
            "Step 305, Loss 3.651918888092041\n",
            "Step 310, Loss 3.773461103439331\n",
            "Step 315, Loss 3.652561664581299\n",
            "Step 320, Loss 3.828117609024048\n",
            "Step 325, Loss 3.5898284912109375\n",
            "Starting epoch 12/30, LR = [0.05]\n",
            "Step 330, Loss 3.9796910285949707\n",
            "Step 335, Loss 4.015681743621826\n",
            "Step 340, Loss 4.023800849914551\n",
            "Step 345, Loss 3.7764878273010254\n",
            "Step 350, Loss 3.863823175430298\n",
            "Step 355, Loss 3.832458972930908\n",
            "Starting epoch 13/30, LR = [0.05]\n",
            "Step 360, Loss 3.3842849731445312\n",
            "Step 365, Loss 3.5071492195129395\n",
            "Step 370, Loss 3.6396572589874268\n",
            "Step 375, Loss 3.501166582107544\n",
            "Step 380, Loss 3.6270499229431152\n",
            "Step 385, Loss 3.390138864517212\n",
            "Starting epoch 14/30, LR = [0.05]\n",
            "Step 390, Loss 3.005467414855957\n",
            "Step 395, Loss 3.576636791229248\n",
            "Step 400, Loss 3.764101505279541\n",
            "Step 405, Loss 3.7099053859710693\n",
            "Step 410, Loss 3.623333692550659\n",
            "Step 415, Loss 3.2314231395721436\n",
            "Starting epoch 15/30, LR = [0.05]\n",
            "Step 420, Loss 3.4519617557525635\n",
            "Step 425, Loss 3.544062376022339\n",
            "Step 430, Loss 3.385223388671875\n",
            "Step 435, Loss 3.35931658744812\n",
            "Step 440, Loss 3.431307315826416\n",
            "Step 445, Loss 2.872474431991577\n",
            "Starting epoch 16/30, LR = [0.05]\n",
            "Step 450, Loss 3.2012810707092285\n",
            "Step 455, Loss 2.836059808731079\n",
            "Step 460, Loss 3.1651878356933594\n",
            "Step 465, Loss 3.096151828765869\n",
            "Step 470, Loss 3.0808866024017334\n",
            "Step 475, Loss 2.8292412757873535\n",
            "Starting epoch 17/30, LR = [0.05]\n",
            "Step 480, Loss 3.0597448348999023\n",
            "Step 485, Loss 2.8848063945770264\n",
            "Step 490, Loss 2.773777484893799\n",
            "Step 495, Loss 2.68217134475708\n",
            "Step 500, Loss 3.323214292526245\n",
            "Step 505, Loss 3.14058256149292\n",
            "Starting epoch 18/30, LR = [0.05]\n",
            "Step 510, Loss 2.68463134765625\n",
            "Step 515, Loss 2.6582558155059814\n",
            "Step 520, Loss 2.6598095893859863\n",
            "Step 525, Loss 2.9794857501983643\n",
            "Step 530, Loss 2.68387770652771\n",
            "Step 535, Loss 2.8947505950927734\n",
            "Starting epoch 19/30, LR = [0.05]\n",
            "Step 540, Loss 2.495683193206787\n",
            "Step 545, Loss 2.2948760986328125\n",
            "Step 550, Loss 2.6520042419433594\n",
            "Step 555, Loss 2.515362501144409\n",
            "Step 560, Loss 2.586392402648926\n",
            "Step 565, Loss 3.080109119415283\n",
            "Starting epoch 20/30, LR = [0.05]\n",
            "Step 570, Loss 2.827425241470337\n",
            "Step 575, Loss 2.116626739501953\n",
            "Step 580, Loss 2.519073009490967\n",
            "Step 585, Loss 2.7558460235595703\n",
            "Step 590, Loss 2.776688814163208\n",
            "Step 595, Loss 2.346698045730591\n",
            "Starting epoch 21/30, LR = [0.005000000000000001]\n",
            "Step 600, Loss 2.3551735877990723\n",
            "Step 605, Loss 2.372347593307495\n",
            "Step 610, Loss 1.943001627922058\n",
            "Step 615, Loss 2.1282873153686523\n",
            "Step 620, Loss 2.102494478225708\n",
            "Step 625, Loss 2.3630809783935547\n",
            "Starting epoch 22/30, LR = [0.005000000000000001]\n",
            "Step 630, Loss 2.301448345184326\n",
            "Step 635, Loss 1.6865973472595215\n",
            "Step 640, Loss 2.0010695457458496\n",
            "Step 645, Loss 1.9248335361480713\n",
            "Step 650, Loss 1.9598398208618164\n",
            "Step 655, Loss 1.9735504388809204\n",
            "Starting epoch 23/30, LR = [0.005000000000000001]\n",
            "Step 660, Loss 2.0077743530273438\n",
            "Step 665, Loss 1.880147933959961\n",
            "Step 670, Loss 1.7625162601470947\n",
            "Step 675, Loss 1.6627237796783447\n",
            "Step 680, Loss 1.7877134084701538\n",
            "Step 685, Loss 1.4874205589294434\n",
            "Starting epoch 24/30, LR = [0.005000000000000001]\n",
            "Step 690, Loss 1.8030829429626465\n",
            "Step 695, Loss 1.6290303468704224\n",
            "Step 700, Loss 1.5402151346206665\n",
            "Step 705, Loss 1.8070344924926758\n",
            "Step 710, Loss 1.6563892364501953\n",
            "Step 715, Loss 1.8705731630325317\n",
            "Starting epoch 25/30, LR = [0.005000000000000001]\n",
            "Step 720, Loss 1.8464789390563965\n",
            "Step 725, Loss 1.4996331930160522\n",
            "Step 730, Loss 1.6499099731445312\n",
            "Step 735, Loss 2.02655291557312\n",
            "Step 740, Loss 1.6303367614746094\n",
            "Step 745, Loss 1.5025941133499146\n",
            "Starting epoch 26/30, LR = [0.005000000000000001]\n",
            "Step 750, Loss 1.584370732307434\n",
            "Step 755, Loss 1.6442039012908936\n",
            "Step 760, Loss 1.3708974123001099\n",
            "Step 765, Loss 1.8425185680389404\n",
            "Step 770, Loss 1.5705244541168213\n",
            "Step 775, Loss 1.8056172132492065\n",
            "Starting epoch 27/30, LR = [0.005000000000000001]\n",
            "Step 780, Loss 1.5148626565933228\n",
            "Step 785, Loss 1.6047825813293457\n",
            "Step 790, Loss 1.5092602968215942\n",
            "Step 795, Loss 1.4159557819366455\n",
            "Step 800, Loss 1.14992356300354\n",
            "Step 805, Loss 1.5277212858200073\n",
            "Starting epoch 28/30, LR = [0.005000000000000001]\n",
            "Step 810, Loss 1.3091034889221191\n",
            "Step 815, Loss 1.1991719007492065\n",
            "Step 820, Loss 1.4029622077941895\n",
            "Step 825, Loss 1.5030514001846313\n",
            "Step 830, Loss 1.6701477766036987\n",
            "Step 835, Loss 1.2811036109924316\n",
            "Starting epoch 29/30, LR = [0.005000000000000001]\n",
            "Step 840, Loss 1.0395219326019287\n",
            "Step 845, Loss 1.2112969160079956\n",
            "Step 850, Loss 1.1472004652023315\n",
            "Step 855, Loss 1.5119142532348633\n",
            "Step 860, Loss 1.4361474514007568\n",
            "Step 865, Loss 1.2970951795578003\n",
            "Starting epoch 30/30, LR = [0.005000000000000001]\n",
            "Step 870, Loss 1.1684857606887817\n",
            "Step 875, Loss 1.2881814241409302\n",
            "Step 880, Loss 1.19283926486969\n",
            "Step 885, Loss 1.1423518657684326\n",
            "Step 890, Loss 1.5216312408447266\n",
            "Step 895, Loss 1.1322436332702637\n"
          ],
          "name": "stdout"
        }
      ]
    },
    {
      "cell_type": "markdown",
      "metadata": {
        "id": "jxekmR745ySe"
      },
      "source": [
        "**Test**"
      ]
    },
    {
      "cell_type": "code",
      "metadata": {
        "id": "fSHcUqLB5yWO",
        "colab": {
          "base_uri": "https://localhost:8080/",
          "height": 613
        },
        "outputId": "ec29b1de-0447-4787-9b9e-c03eee6f69e1"
      },
      "source": [
        "import pandas as pd\n",
        "import matplotlib.pyplot as plt\n",
        "\n",
        "print(\"Best accuracies on the validation set: \", val_acc)\n",
        "\n",
        "results_df = pd.DataFrame(zip(range(1,NUM_EPOCHS+1), train_accuracies, val_accuracies, train_losses, val_losses), columns = [\"epoch\", \"train_accuracy\", \"val_accuracy\", \"train_loss\", \"val_loss\"])\n",
        "results_df.set_index(\"epoch\")\n",
        "results_df.plot(x = \"epoch\", y = [\"train_accuracy\", \"val_accuracy\"])\n",
        "results_df.plot(x = \"epoch\", y = [\"train_loss\", \"val_loss\"])\n",
        "\n",
        "\n",
        "#test\n",
        "accuracy = evaluate(net, test_dataloader)[0]\n",
        "print('\\nTest Accuracy: {}'.format(accuracy))"
      ],
      "execution_count": null,
      "outputs": [
        {
          "output_type": "stream",
          "text": [
            "\r  0%|          | 0/23 [00:00<?, ?it/s]"
          ],
          "name": "stderr"
        },
        {
          "output_type": "stream",
          "text": [
            "Best accuracies on the validation set:  0.4600622406639004\n"
          ],
          "name": "stdout"
        },
        {
          "output_type": "stream",
          "text": [
            "100%|██████████| 23/23 [00:09<00:00,  2.37it/s]\n"
          ],
          "name": "stderr"
        },
        {
          "output_type": "stream",
          "text": [
            "\n",
            "Test Accuracy: 0.4593847217421362\n"
          ],
          "name": "stdout"
        },
        {
          "output_type": "display_data",
          "data": {
            "image/png": "[encoded data removed]",
            "text/plain": [
              "<Figure size 432x288 with 1 Axes>"
            ]
          },
          "metadata": {
            "tags": [],
            "needs_background": "light"
          }
        },
        {
          "output_type": "display_data",
          "data": {
            "image/png": "[encoded data removed]",
            "text/plain": [
              "<Figure size 432x288 with 1 Axes>"
            ]
          },
          "metadata": {
            "tags": [],
            "needs_background": "light"
          }
        }
      ]
    }
  ]
}